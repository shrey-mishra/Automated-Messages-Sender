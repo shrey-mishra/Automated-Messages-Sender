{
 "cells": [
  {
   "cell_type": "code",
   "execution_count": 1,
   "id": "06553afb",
   "metadata": {},
   "outputs": [
    {
     "name": "stdout",
     "output_type": "stream",
     "text": [
      "Invalid phone numbers: 152\n",
      "Invalid entries (first 5): ['Invalid format or length: 0129-2425101', 'Invalid format or length: 0124-4770500', 'Invalid format or length: 0124-2300543', 'Invalid format or length: 011-47458885', 'Invalid format or length: 7722058193//9922969147']\n",
      "Sample phone numbers: ['+919811373733', '+919999839905', '+919810925109', '+919958199821', '+919990906911', '+919312014737', '+919717597630', '+919999190575', '+919310513272', '+919810102582']\n"
     ]
    }
   ],
   "source": [
    "import pandas as pd\n",
    "import re\n",
    "import numpy as np\n",
    "\n",
    "def clean_phone(phone):\n",
    "    if pd.isna(phone) or str(phone).lower() == 'nan':\n",
    "        return None, \"Null or NaN\"\n",
    "    \n",
    "    # Convert to string, handle scientific notation\n",
    "    phone_str = str(int(float(phone))) if str(phone).replace('.', '', 1).isdigit() else str(phone)\n",
    "    \n",
    "    # Remove non-digits except +\n",
    "    cleaned = re.sub(r'[^\\d+]', '', phone_str)\n",
    "    \n",
    "    # Handle multiple numbers\n",
    "    numbers = cleaned.split('//')\n",
    "    for num in numbers:\n",
    "        # Add +91 for Indian mobile numbers\n",
    "        if num.startswith(('9', '8', '7', '6')) and not num.startswith('+'):\n",
    "            num = f\"+91{num}\"\n",
    "        # Validate length\n",
    "        if num.startswith('+') and 12 <= len(num) <= 15:\n",
    "            return num, None\n",
    "    return None, f\"Invalid format or length: {phone}\"\n",
    "\n",
    "df = pd.read_excel('data/MSME Supplier list.xlsx')\n",
    "results = df['Phone '].apply(clean_phone)\n",
    "df['Phone '] = results.apply(lambda x: x[0])\n",
    "invalid_phones = results[results.apply(lambda x: x[0] is None)]\n",
    "invalid_count = len(invalid_phones)\n",
    "print(f\"Invalid phone numbers: {invalid_count}\")\n",
    "if invalid_count > 0:\n",
    "    print(\"Invalid entries (first 5):\", invalid_phones.head().apply(lambda x: x[1]).tolist())\n",
    "print(\"Sample phone numbers:\", df['Phone '].head(10).tolist())\n",
    "df.to_excel('data/MSME Supplier list.xlsx', index=False)"
   ]
  },
  {
   "cell_type": "code",
   "execution_count": null,
   "id": "d3230ee6",
   "metadata": {},
   "outputs": [],
   "source": []
  }
 ],
 "metadata": {
  "kernelspec": {
   "display_name": "myenv",
   "language": "python",
   "name": "python3"
  },
  "language_info": {
   "codemirror_mode": {
    "name": "ipython",
    "version": 3
   },
   "file_extension": ".py",
   "mimetype": "text/x-python",
   "name": "python",
   "nbconvert_exporter": "python",
   "pygments_lexer": "ipython3",
   "version": "3.10.11"
  }
 },
 "nbformat": 4,
 "nbformat_minor": 5
}
